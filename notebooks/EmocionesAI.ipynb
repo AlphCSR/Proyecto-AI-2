{
  "cells": [
    {
      "cell_type": "code",
      "execution_count": null,
      "metadata": {
        "id": "B1TlFgpW1qNo"
      },
      "outputs": [],
      "source": [
        "import tensorflow as tf\n",
        "from tensorflow.keras.layers import Embedding, LSTM, Dense, Dropout\n",
        "from tensorflow.keras.models import Sequential\n",
        "from tensorflow.keras.preprocessing.text import Tokenizer\n",
        "from tensorflow.keras.preprocessing.sequence import pad_sequences\n",
        "import numpy as np\n",
        "import re\n",
        "import nltk\n",
        "from nltk.corpus import stopwords\n",
        "from nltk.stem import WordNetLemmatizer"
      ]
    },
    {
      "cell_type": "code",
      "execution_count": null,
      "metadata": {
        "id": "-JcONXJI0SP4"
      },
      "outputs": [],
      "source": [
        "\n",
        "def preprocess_text_for_sentiment(text):\n",
        "    \"\"\"\n",
        "    Limpia y preprocesa a lower, removes URLs, @mentions, #hashtags, and non-alphabetic characters.\n",
        "    Does NOT handle stop words or lemmatization as those will be done separately.\n",
        "    \"\"\"\n",
        "    text = text.lower() # Convertir a minúsculas\n",
        "    text = re.sub(r'http\\S+|www\\S+|https\\S+', '', text, flags=re.MULTILINE) # Eliminar URLs\n",
        "    text = re.sub(r'@\\w+', '', text) # Eliminar menciones\n",
        "    text = re.sub(r'#\\w+', '', text) # Eliminar hashtags\n",
        "    text = re.sub(r'[^a-z\\s]', '', text) # Eliminar caracteres no alfabéticos\n",
        "\n",
        "    # Stop word removal and lemmatization will be handled outside this function\n",
        "\n",
        "    return text # Return cleaned text without stop words or lemmatization\n",
        "\n",
        "def build_sentiment_model(vocab_size, embedding_dim, max_sequence_length, num_classes):\n",
        "    \"\"\"\n",
        "    Construye un modelo RNN (LSTM) para clasificación de sentimiento.\n",
        "    \"\"\"\n",
        "    model = Sequential([\n",
        "        Embedding(vocab_size, embedding_dim, input_length=max_sequence_length),\n",
        "        LSTM(128, dropout=0.2, recurrent_dropout=0.2),\n",
        "        Dense(64, activation='relu'),\n",
        "        Dropout(0.5),\n",
        "        Dense(num_classes, activation='softmax') # 3 clases: positivo, negativo, neutral\n",
        "    ])\n",
        "\n",
        "    model.compile(optimizer='adam', loss='categorical_crossentropy', metrics=['accuracy'])\n",
        "    return model\n",
        "\n",
        "def train_sentiment_model(model, texts, sentiments, epochs=10, batch_size=32):\n",
        "    \"\"\"\n",
        "    Entrena el modelo de sentimiento.\n",
        "    texts: Lista de textos preprocesados.\n",
        "    sentiments: Lista de etiquetas de sentimiento (ej. [0, 1, 2] para neg, neu, pos).\n",
        "    \"\"\"\n",
        "    # Tokenización y padding\n",
        "    tokenizer = Tokenizer(num_words=len(set(texts)), oov_token=\"<unk>\")\n",
        "    tokenizer.fit_on_texts(texts)\n",
        "    sequences = tokenizer.texts_to_sequences(texts)\n",
        "    padded_sequences = pad_sequences(sequences, maxlen=model.input_shape[1])\n",
        "\n",
        "    # Convertir sentimientos a one-hot encoding\n",
        "    num_classes = model.output_shape[1]\n",
        "    sentiment_labels = tf.keras.utils.to_categorical(sentiments, num_classes=num_classes)\n",
        "\n",
        "    model.fit(padded_sequences, sentiment_labels, epochs=epochs, batch_size=batch_size, validation_split=0.2)\n",
        "    return model, tokenizer\n",
        "\n",
        "def predict_sentiment(model, tokenizer, text, max_sequence_length):\n",
        "    \"\"\"\n",
        "    Predice el sentimiento de un texto dado.\n",
        "    \"\"\"\n",
        "    processed_text = preprocess_text_for_sentiment(text)\n",
        "    # Apply stop word removal and lemmatization after basic preprocessing\n",
        "    tokens = processed_text.split()\n",
        "    tokens = [word for word in tokens if word not in stop_words]\n",
        "    tokens = [lemmatizer.lemmatize(word) for word in tokens]\n",
        "    processed_text_nltk = ' '.join(tokens)\n",
        "\n",
        "\n",
        "    sequence = tokenizer.texts_to_sequences([processed_text_nltk])\n",
        "    padded_sequence = pad_sequences(sequence, maxlen=max_sequence_length)\n",
        "\n",
        "    prediction = model.predict(padded_sequence)[0]\n",
        "    # Asumiendo que las clases son 0: negativo, 1: neutral, 2: positivo\n",
        "    sentiment_map = {0: 'negativo', 1: 'neutral', 2: 'positivo'}\n",
        "    predicted_class = np.argmax(prediction)\n",
        "    return sentiment_map[predicted_class], prediction"
      ]
    },
    {
      "cell_type": "code",
      "execution_count": null,
      "metadata": {
        "colab": {
          "base_uri": "https://localhost:8080/"
        },
        "id": "6de5e877",
        "outputId": "89b9d149-94c4-4f09-f7a8-cc07789ccc44"
      },
      "outputs": [
        {
          "name": "stdout",
          "output_type": "stream",
          "text": [
            "Archive:  TwitterSentimentDataset-master.zip\n",
            "a3a44a839397773484c8c6e0975fc47f9d2b961c\n",
            "   creating: TwitterSentimentDataset-master/\n",
            "  inflating: TwitterSentimentDataset-master/LICENSE  \n",
            "  inflating: TwitterSentimentDataset-master/README.md  \n",
            "  inflating: TwitterSentimentDataset-master/tweets_clean.txt  \n",
            "  inflating: TwitterSentimentDataset-master/tweets_neg_clean.txt  \n",
            "  inflating: TwitterSentimentDataset-master/tweets_pos_clean.txt  \n"
          ]
        }
      ],
      "source": [
        "!unzip TwitterSentimentDataset-master.zip"
      ]
    },
    {
      "cell_type": "code",
      "execution_count": null,
      "metadata": {
        "colab": {
          "base_uri": "https://localhost:8080/"
        },
        "id": "e333cbd4",
        "outputId": "9718cd87-2fd7-4509-b71f-2e62e4794035"
      },
      "outputs": [
        {
          "name": "stdout",
          "output_type": "stream",
          "text": [
            "Loaded 55360 positive tweets.\n",
            "Loaded 122216 negative tweets.\n",
            "Loaded 70734 neutral tweets.\n",
            "Total tweets loaded: 248310\n"
          ]
        }
      ],
      "source": [
        "# Load the data from the extracted files\n",
        "def load_tweets(filepath, label):\n",
        "    \"\"\"Loads tweets from a file and assigns a label.\"\"\"\n",
        "    tweets = []\n",
        "    with open(filepath, 'r', encoding='utf-8') as f:\n",
        "        for line in f:\n",
        "            tweets.append((line.strip(), label))\n",
        "    return tweets\n",
        "\n",
        "# Load positive, negative, and neutral tweets\n",
        "positive_tweets = load_tweets('TwitterSentimentDataset-master/tweets_pos_clean.txt', 2) # 2 for positive\n",
        "negative_tweets = load_tweets('TwitterSentimentDataset-master/tweets_neg_clean.txt', 0) # 0 for negative\n",
        "neutral_tweets = load_tweets('TwitterSentimentDataset-master/tweets_clean.txt', 1)  # 1 for neutral\n",
        "\n",
        "# Combine all tweets\n",
        "all_tweets = positive_tweets + negative_tweets + neutral_tweets\n",
        "\n",
        "# Separate texts and labels\n",
        "texts = [tweet[0] for tweet in all_tweets]\n",
        "labels = [tweet[1] for tweet in all_tweets]\n",
        "\n",
        "print(f\"Loaded {len(positive_tweets)} positive tweets.\")\n",
        "print(f\"Loaded {len(negative_tweets)} negative tweets.\")\n",
        "print(f\"Loaded {len(neutral_tweets)} neutral tweets.\")\n",
        "print(f\"Total tweets loaded: {len(all_tweets)}\")"
      ]
    },
    {
      "cell_type": "code",
      "execution_count": null,
      "metadata": {
        "colab": {
          "base_uri": "https://localhost:8080/"
        },
        "id": "f2091309",
        "outputId": "3687efeb-0819-46cd-8938-91566bf18f77"
      },
      "outputs": [
        {
          "name": "stdout",
          "output_type": "stream",
          "text": [
            "Vocabulary size: 110510\n",
            "Max sequence length: 100\n",
            "Shape of padded sequences: (248310, 100)\n",
            "Shape of labels: (248310,)\n"
          ]
        }
      ],
      "source": [
        "# Prepare data for training: Tokenization and Padding\n",
        "# Use the Tokenizer and pad_sequences from the first cell's imports\n",
        "\n",
        "# Determine vocabulary size from the processed texts\n",
        "# A reasonable approach is to use a large number or the actual vocabulary size if not too large\n",
        "# Here we use a fixed number as defined in the build_sentiment_model example, but this could be dynamic\n",
        "vocab_size = 10000 # Should match the vocab_size used in build_sentiment_model\n",
        "\n",
        "tokenizer = Tokenizer(num_words=vocab_size, oov_token=\"<unk>\")\n",
        "tokenizer.fit_on_texts(processed_texts)\n",
        "sequences = tokenizer.texts_to_sequences(processed_texts)\n",
        "\n",
        "# Determine max sequence length\n",
        "# Use the max_sequence_length defined in the build_sentiment_model example\n",
        "max_sequence_length = 100 # Should match the max_sequence_length used in build_sentiment_model\n",
        "\n",
        "padded_sequences = pad_sequences(sequences, maxlen=max_sequence_length, padding='post', truncating='post')\n",
        "\n",
        "# Convert labels to numpy array\n",
        "labels = np.array(labels)\n",
        "\n",
        "print(f\"Vocabulary size: {len(tokenizer.word_index)}\")\n",
        "print(f\"Max sequence length: {max_sequence_length}\")\n",
        "print(f\"Shape of padded sequences: {padded_sequences.shape}\")\n",
        "print(f\"Shape of labels: {labels.shape}\")"
      ]
    },
    {
      "cell_type": "code",
      "execution_count": null,
      "metadata": {
        "colab": {
          "base_uri": "https://localhost:8080/"
        },
        "id": "c21eced6",
        "outputId": "33e278aa-7d63-4ae3-cc38-164615af42b9"
      },
      "outputs": [
        {
          "name": "stdout",
          "output_type": "stream",
          "text": [
            "NLTK resources checked/downloaded.\n"
          ]
        }
      ],
      "source": [
        "import nltk\n",
        "import os\n",
        "\n",
        "# Set NLTK data path to a directory within the Colab environment\n",
        "nltk_data_path = '/usr/local/share/nltk_data'\n",
        "if not os.path.exists(nltk_data_path):\n",
        "    os.makedirs(nltk_data_path)\n",
        "nltk.data.path.append(nltk_data_path)\n",
        "\n",
        "# Download NLTK resources if not already present\n",
        "try:\n",
        "    nltk.data.find('corpora/stopwords.zip')\n",
        "except nltk.downloader.DownloadError:\n",
        "    nltk.download('stopwords', download_dir=nltk_data_path)\n",
        "try:\n",
        "    nltk.data.find('corpora/wordnet.zip')\n",
        "except nltk.downloader.DownloadError:\n",
        "    nltk.download('wordnet', download_dir=nltk_data_path)\n",
        "\n",
        "print(\"NLTK resources checked/downloaded.\")"
      ]
    },
    {
      "cell_type": "code",
      "execution_count": null,
      "metadata": {
        "colab": {
          "base_uri": "https://localhost:8080/"
        },
        "id": "33678e64",
        "outputId": "d93a3c1f-bf94-4508-a867-1595634f927a"
      },
      "outputs": [
        {
          "name": "stdout",
          "output_type": "stream",
          "text": [
            "Data shuffled successfully.\n"
          ]
        }
      ],
      "source": [
        "from sklearn.utils import shuffle\n",
        "\n",
        "# Shuffle the padded sequences and labels together\n",
        "padded_sequences_shuffled, labels_shuffled = shuffle(padded_sequences, labels, random_state=42) # Using a random state for reproducibility\n",
        "\n",
        "print(\"Data shuffled successfully.\")\n",
        "\n",
        "# Now, use the shuffled data for training\n",
        "# The training cell will need to be re-run after this."
      ]
    },
    {
      "cell_type": "code",
      "execution_count": null,
      "metadata": {
        "colab": {
          "base_uri": "https://localhost:8080/"
        },
        "id": "b664902e",
        "outputId": "3acc54eb-a2de-4674-aef5-e25d7a618662"
      },
      "outputs": [
        {
          "name": "stdout",
          "output_type": "stream",
          "text": [
            "NLTK-dependent preprocessing complete.\n",
            "\n",
            "Examples of fully preprocessed text:\n",
            "Original: Se imaginan a los chicos agradeciendo por el premio con cara de orgullo?.Que bonito :).#MTVHottest One Direction\n",
            "Processed: se imaginan los chico agradeciendo por el premio con cara de orgulloque bonito one direction\n",
            "Original: Eclesiastes4:9-12 ♡ Siempre, promesa :)  https://t.co/XbrYsqa43T\n",
            "Processed: eclesiastes siempre promesa\n",
            "Original: @pedroj_ramirez Qué saborío, PJ. ya no compartes ni un gintonic con nosotros. :)\n",
            "Processed: qu saboro pj ya compartes ni un gintonic con nosotros\n",
            "Original: Buenos dias para todos. Feliz inicio de semana. :-) http://t.co/svMgEcaxLr\n",
            "Processed: buenos dia para todos feliz inicio de semana\n",
            "Original: @pepedom @bquintero Gracias! No es así, deja claro que es el 100% de aquí http://t.co/cD3VFu7hnH }:)\n",
            "Processed: gracias e deja claro que e el de aqu\n"
          ]
        }
      ],
      "source": [
        "# Continue preprocessing with stop word removal and lemmatization\n",
        "# Assuming 'texts' is loaded from a previous cell and 'stop_words' and 'lemmatizer' are initialized\n",
        "\n",
        "processed_texts = []\n",
        "for text in texts:\n",
        "    # Apply basic preprocessing first\n",
        "    cleaned_text = preprocess_text_for_sentiment(text)\n",
        "\n",
        "    # Then apply NLTK-dependent steps\n",
        "    tokens = cleaned_text.split()\n",
        "    tokens = [word for word in tokens if word not in stop_words]\n",
        "    tokens = [lemmatizer.lemmatize(word) for word in tokens]\n",
        "    processed_texts.append(' '.join(tokens))\n",
        "\n",
        "print(\"NLTK-dependent preprocessing complete.\")\n",
        "# Display a few examples of fully preprocessed text\n",
        "print(\"\\nExamples of fully preprocessed text:\")\n",
        "for i in range(5):\n",
        "    print(f\"Original: {texts[i]}\")\n",
        "    print(f\"Processed: {processed_texts[i]}\")"
      ]
    },
    {
      "cell_type": "code",
      "execution_count": null,
      "metadata": {
        "colab": {
          "base_uri": "https://localhost:8080/"
        },
        "id": "e897f413",
        "outputId": "cd3a6132-bbee-4abb-d75e-a973bd14885f"
      },
      "outputs": [
        {
          "name": "stdout",
          "output_type": "stream",
          "text": [
            "Using the existing 'sentiment_model'.\n",
            "Starting model training with shuffled data...\n",
            "Epoch 1/3\n",
            "\u001b[1m6208/6208\u001b[0m \u001b[32m━━━━━━━━━━━━━━━━━━━━\u001b[0m\u001b[37m\u001b[0m \u001b[1m1584s\u001b[0m 255ms/step - accuracy: 0.4922 - loss: 1.0411 - val_accuracy: 0.4913 - val_loss: 1.0419\n",
            "Epoch 2/3\n",
            "\u001b[1m6208/6208\u001b[0m \u001b[32m━━━━━━━━━━━━━━━━━━━━\u001b[0m\u001b[37m\u001b[0m \u001b[1m1646s\u001b[0m 256ms/step - accuracy: 0.4909 - loss: 1.0421 - val_accuracy: 0.4913 - val_loss: 1.0419\n",
            "Epoch 3/3\n",
            "\u001b[1m6208/6208\u001b[0m \u001b[32m━━━━━━━━━━━━━━━━━━━━\u001b[0m\u001b[37m\u001b[0m \u001b[1m1621s\u001b[0m 252ms/step - accuracy: 0.4928 - loss: 1.0410 - val_accuracy: 0.4913 - val_loss: 1.0419\n",
            "\n",
            "Model training complete.\n"
          ]
        }
      ],
      "source": [
        "# Train the sentiment model\n",
        "# Use the build_sentiment_model function from the first cell to get the model instance\n",
        "# Ensure the parameters match what was used to build the model initially\n",
        "vocab_size = 10000\n",
        "embedding_dim = 100\n",
        "max_sequence_length = 100\n",
        "num_classes = 3\n",
        "\n",
        "# Rebuild the model if it was not kept in the environment or just use the existing one if available\n",
        "# Assuming the model 'sentiment_model' from the first cell is available\n",
        "if 'sentiment_model' not in locals():\n",
        "    print(\"Building a new model as 'sentiment_model' was not found.\")\n",
        "    sentiment_model = build_sentiment_model(vocab_size, embedding_dim, max_sequence_length, num_classes)\n",
        "    sentiment_model.summary()\n",
        "else:\n",
        "    print(\"Using the existing 'sentiment_model'.\")\n",
        "\n",
        "# Convert shuffled labels to one-hot encoding\n",
        "sentiment_labels_one_hot_shuffled = tf.keras.utils.to_categorical(labels_shuffled, num_classes=num_classes)\n",
        "\n",
        "print(\"Starting model training with shuffled data...\")\n",
        "# Train the model using shuffled data\n",
        "history = sentiment_model.fit(padded_sequences_shuffled, sentiment_labels_one_hot_shuffled, epochs=3, batch_size=32, validation_split=0.2)\n",
        "\n",
        "print(\"\\nModel training complete.\")\n",
        "# You can access training history for evaluation if needed\n",
        "# print(history.history)"
      ]
    },
    {
      "cell_type": "code",
      "execution_count": null,
      "metadata": {
        "colab": {
          "base_uri": "https://localhost:8080/"
        },
        "id": "1d8cbdbf",
        "outputId": "f372a1ac-cc5e-4656-a644-85232e90dea2"
      },
      "outputs": [
        {
          "name": "stdout",
          "output_type": "stream",
          "text": [
            "Model saved successfully to sentiment_model.keras\n"
          ]
        }
      ],
      "source": [
        "# Save the trained model\n",
        "model_save_path = 'sentiment_model.keras' # Added .keras extension\n",
        "sentiment_model.save(model_save_path)\n",
        "\n",
        "print(f\"Model saved successfully to {model_save_path}\")"
      ]
    },
    {
      "cell_type": "code",
      "execution_count": null,
      "metadata": {
        "colab": {
          "base_uri": "https://localhost:8080/"
        },
        "id": "837d9354",
        "outputId": "4da24e34-4bb0-4c3f-ee3a-8012468612a3"
      },
      "outputs": [
        {
          "name": "stdout",
          "output_type": "stream",
          "text": [
            "NLTK resources downloaded and initialized.\n"
          ]
        }
      ],
      "source": [
        "import nltk\n",
        "import os\n",
        "from nltk.corpus import stopwords\n",
        "from nltk.stem import WordNetLemmatizer\n",
        "\n",
        "# Download NLTK resources using the default behavior\n",
        "nltk.download('stopwords', quiet=True)\n",
        "nltk.download('wordnet', quiet=True)\n",
        "\n",
        "stop_words = set(stopwords.words('english'))\n",
        "lemmatizer = WordNetLemmatizer()\n",
        "\n",
        "print(\"NLTK resources downloaded and initialized.\")"
      ]
    },
    {
      "cell_type": "code",
      "execution_count": null,
      "metadata": {
        "colab": {
          "base_uri": "https://localhost:8080/",
          "height": 559
        },
        "id": "db840a31",
        "outputId": "6b6a1d97-406d-4924-edeb-a9a16caee53a"
      },
      "outputs": [
        {
          "name": "stdout",
          "output_type": "stream",
          "text": [
            "\u001b[1m1552/1552\u001b[0m \u001b[32m━━━━━━━━━━━━━━━━━━━━\u001b[0m\u001b[37m\u001b[0m \u001b[1m66s\u001b[0m 42ms/step\n"
          ]
        },
        {
          "data": {
            "image/png": "[encoded data removed]",
            "text/plain": [
              "<Figure size 640x480 with 2 Axes>"
            ]
          },
          "metadata": {},
          "output_type": "display_data"
        },
        {
          "name": "stdout",
          "output_type": "stream",
          "text": [
            "Confusion Matrix:\n",
            "[[    0     0     0]\n",
            " [49662     0     0]\n",
            " [    0     0     0]]\n"
          ]
        }
      ],
      "source": [
        "from sklearn.metrics import confusion_matrix, ConfusionMatrixDisplay\n",
        "import matplotlib.pyplot as plt\n",
        "import numpy as np\n",
        "\n",
        "# Assuming you used validation_split=0.2 during training,\n",
        "# the last 20% of your padded_sequences and sentiment_labels_one_hot were used for validation.\n",
        "# We need to get the corresponding original labels for this validation set.\n",
        "\n",
        "# Determine the size of the validation set\n",
        "validation_size = int(len(padded_sequences) * 0.2)\n",
        "\n",
        "# Get the validation data and labels\n",
        "x_val = padded_sequences[-validation_size:]\n",
        "y_val_one_hot = sentiment_labels_one_hot[-validation_size:]\n",
        "\n",
        "# Get the true labels for the validation set (from the original 'labels' array)\n",
        "y_true = labels[-validation_size:]\n",
        "\n",
        "# Make predictions on the validation set\n",
        "y_pred_probs = sentiment_model.predict(x_val)\n",
        "y_pred = np.argmax(y_pred_probs, axis=1)\n",
        "\n",
        "# Define class labels (make sure these match your label encoding: 0:neg, 1:neu, 2:pos)\n",
        "class_names = ['negativo', 'neutral', 'positivo']\n",
        "\n",
        "# Generate the confusion matrix, explicitly defining the labels to ensure a 3x3 matrix\n",
        "cm = confusion_matrix(y_true, y_pred, labels=np.arange(len(class_names)))\n",
        "\n",
        "\n",
        "# Display the confusion matrix\n",
        "disp = ConfusionMatrixDisplay(confusion_matrix=cm, display_labels=class_names)\n",
        "disp.plot(cmap=plt.cm.Blues)\n",
        "plt.title('Confusion Matrix')\n",
        "plt.show()\n",
        "\n",
        "print(\"Confusion Matrix:\")\n",
        "print(cm)"
      ]
    },
    {
      "cell_type": "code",
      "execution_count": null,
      "metadata": {
        "colab": {
          "base_uri": "https://localhost:8080/"
        },
        "id": "bfdfe29d",
        "outputId": "f4378fbc-0fe4-4a46-fd4c-604510e64228"
      },
      "outputs": [
        {
          "name": "stdout",
          "output_type": "stream",
          "text": [
            "Examples of original tweets and their assigned labels:\n",
            "Tweet: Se imaginan a los chicos agradeciendo por el premio con cara de orgullo?.Que bonito :).#MTVHottest One Direction\n",
            "Label: 2\n",
            "--------------------\n",
            "Tweet: Eclesiastes4:9-12 ♡ Siempre, promesa :)  https://t.co/XbrYsqa43T\n",
            "Label: 2\n",
            "--------------------\n",
            "Tweet: @pedroj_ramirez Qué saborío, PJ. ya no compartes ni un gintonic con nosotros. :)\n",
            "Label: 2\n",
            "--------------------\n",
            "Tweet: Buenos dias para todos. Feliz inicio de semana. :-) http://t.co/svMgEcaxLr\n",
            "Label: 2\n",
            "--------------------\n",
            "Tweet: @pepedom @bquintero Gracias! No es así, deja claro que es el 100% de aquí http://t.co/cD3VFu7hnH }:)\n",
            "Label: 2\n",
            "--------------------\n",
            "Tweet: Solo 1 :) http://t.co/TNWvSO2Gfa\n",
            "Label: 2\n",
            "--------------------\n",
            "Tweet: siempre estuviste a mi lado :)\n",
            "Label: 2\n",
            "--------------------\n",
            "Tweet: Somos los más felices con #fox y su #FeriadoSimpson así si es un #domingofeliz  :) http://t.co/LQjUC6k3Nq\n",
            "Label: 2\n",
            "--------------------\n",
            "Tweet: @POetaVIPGT awww así debe de ser :)\n",
            "Label: 2\n",
            "--------------------\n",
            "Tweet: @mundodms :) .Te Ayudo ? ☺\n",
            "Label: 2\n",
            "--------------------\n",
            "\n",
            "Distribution of labels in the full dataset:\n",
            "Counter({np.int64(0): 122216, np.int64(1): 70734, np.int64(2): 55360})\n",
            "\n",
            "Distribution of labels in the validation set:\n",
            "Counter({np.int64(1): 49662})\n"
          ]
        }
      ],
      "source": [
        "# Display a few examples of original tweets and their assigned numerical labels\n",
        "print(\"Examples of original tweets and their assigned labels:\")\n",
        "for i in range(10): # Display the first 10 examples\n",
        "    print(f\"Tweet: {all_tweets[i][0]}\")\n",
        "    print(f\"Label: {all_tweets[i][1]}\")\n",
        "    print(\"-\" * 20)\n",
        "\n",
        "# Also, check the distribution of labels in the full dataset\n",
        "from collections import Counter\n",
        "label_counts = Counter(labels)\n",
        "print(\"\\nDistribution of labels in the full dataset:\")\n",
        "print(label_counts)\n",
        "\n",
        "# And check the distribution of labels in the validation set\n",
        "validation_size = int(len(padded_sequences) * 0.2)\n",
        "validation_labels = labels[-validation_size:]\n",
        "validation_label_counts = Counter(validation_labels)\n",
        "print(\"\\nDistribution of labels in the validation set:\")\n",
        "print(validation_label_counts)"
      ]
    },
    {
      "cell_type": "markdown",
      "metadata": {
        "id": "d253e7ff"
      },
      "source": [
        "Let's shuffle the data before splitting it into training and validation sets to ensure a more balanced validation set."
      ]
    }
  ],
  "metadata": {
    "colab": {
      "provenance": []
    },
    "kernelspec": {
      "display_name": "Python 3",
      "name": "python3"
    },
    "language_info": {
      "name": "python"
    }
  },
  "nbformat": 4,
  "nbformat_minor": 0
}